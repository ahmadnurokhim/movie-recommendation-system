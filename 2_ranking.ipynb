{
 "cells": [
  {
   "attachments": {},
   "cell_type": "markdown",
   "metadata": {},
   "source": [
    "# Imports"
   ]
  },
  {
   "cell_type": "code",
   "execution_count": 1,
   "metadata": {},
   "outputs": [
    {
     "name": "stderr",
     "output_type": "stream",
     "text": [
      "d:\\Work\\movie-recommendation-system\\.venv\\lib\\site-packages\\tqdm\\auto.py:21: TqdmWarning: IProgress not found. Please update jupyter and ipywidgets. See https://ipywidgets.readthedocs.io/en/stable/user_install.html\n",
      "  from .autonotebook import tqdm as notebook_tqdm\n"
     ]
    }
   ],
   "source": [
    "from typing import Dict, Text\n",
    "\n",
    "import numpy as np\n",
    "import tensorflow as tf\n",
    "\n",
    "import tensorflow_datasets as tfds\n",
    "import tensorflow_recommenders as tfrs\n",
    "import pandas as pd"
   ]
  },
  {
   "attachments": {},
   "cell_type": "markdown",
   "metadata": {},
   "source": [
    "# Datasets"
   ]
  },
  {
   "cell_type": "code",
   "execution_count": 2,
   "metadata": {},
   "outputs": [],
   "source": [
    "# Read the dataset from tfds\n",
    "ratings = tfds.load('movielens/latest-small-ratings', split='train')\n",
    "\n",
    "# Select the needed feature\n",
    "# x['features'] can be done because the dataset are in form of FeaturesDict, check the docs\n",
    "ratings = ratings.map(lambda x: {\n",
    "    'user_id': x['user_id'],        \n",
    "    'movie_title': x['movie_title'],\n",
    "    'user_rating': x['user_rating']\n",
    "    })\n",
    "\n",
    "# Randomize the dataset\n",
    "tf.random.set_seed(20)\n",
    "shuffled = ratings.shuffle(100000, seed=20, reshuffle_each_iteration=False)\n",
    "\n",
    "train = shuffled.take(80000)\n",
    "test = shuffled.skip(80000).take(20000)"
   ]
  },
  {
   "attachments": {},
   "cell_type": "markdown",
   "metadata": {},
   "source": [
    "If your dataset are from csv, you can convert that to TF dataset. Below is an example of its implementation.\n",
    "\n",
    "``` python\n",
    "# Import ratings and movies data\n",
    "ratings = pd.read_csv(\"data/ratings_200k.csv\")\n",
    "movies = pd.read_csv('data/movies_2000.csv')\n",
    "\n",
    "# Get movie title to ratings DF\n",
    "ratings = pd.merge(ratings, movies[['movieId', 'title']], on='movieId')[['userId', 'title', 'rating']]\n",
    "\n",
    "# Convert value to byte\n",
    "ratings = ratings.apply(lambda x: x.apply(lambda y: str(y).encode()))\n",
    "\n",
    "# Convert DF to TF dataset\n",
    "ratings = tf.data.Dataset.from_tensor_slices(ratings)\n",
    "\n",
    "# Map so each row can be called by its name\n",
    "ratings = ratings.map(lambda x: {\n",
    "    'userId': x[0],\n",
    "    'title': x[1],\n",
    "    'rating': float(b'2.5')})\n",
    "```"
   ]
  },
  {
   "cell_type": "code",
   "execution_count": 4,
   "metadata": {},
   "outputs": [],
   "source": [
    "# Get unique movie title and user id lists to be used as vocabulary\n",
    "movie_titles = ratings.batch(1000000).map(lambda x: x['movie_title'])\n",
    "user_ids = ratings.batch(1000000).map(lambda x: x['movie_title'])\n",
    "\n",
    "uniq_movie_title = np.unique(np.concatenate(list(movie_titles)))\n",
    "uniq_user_id = np.unique(np.concatenate(list(user_ids)))"
   ]
  },
  {
   "cell_type": "code",
   "execution_count": 5,
   "metadata": {},
   "outputs": [],
   "source": [
    "# Define the ranking model\n",
    "class RankingModel(tf.keras.Model):\n",
    "    def __init__(self, *args, **kwargs):\n",
    "        super().__init__(*args, **kwargs)\n",
    "        embedding_dims = 32\n",
    "\n",
    "        # User embedding model        \n",
    "        self.movie_embedding = tf.keras.models.Sequential([\n",
    "            tf.keras.layers.StringLookup(vocabulary=uniq_movie_title),\n",
    "            tf.keras.layers.Embedding(len(uniq_movie_title) + 1, embedding_dims)\n",
    "        ])\n",
    "\n",
    "        # Movie embedding model\n",
    "        self.user_embedding = tf.keras.models.Sequential([\n",
    "            tf.keras.layers.StringLookup(vocabulary=uniq_user_id),\n",
    "            tf.keras.layers.Embedding(len(uniq_user_id) + 1, embedding_dims)\n",
    "        ])\n",
    "\n",
    "        # Rating prediction model\n",
    "        self.rating = tf.keras.models.Sequential([\n",
    "            tf.keras.layers.Dense(256, 'relu'),\n",
    "            tf.keras.layers.Dense(64, 'relu'),\n",
    "            tf.keras.layers.Dense(1) # This will output the predicted rating\n",
    "        ])\n",
    "\n",
    "    def call(self, inputs):\n",
    "        user_id, movie_title = inputs\n",
    "\n",
    "        user_embedding = self.user_embedding(user_id)\n",
    "        movie_embedding = self.movie_embedding(movie_title)\n",
    "\n",
    "        return self.rating(tf.concat([user_embedding, movie_embedding], axis=1)) \n"
   ]
  },
  {
   "cell_type": "code",
   "execution_count": 6,
   "metadata": {},
   "outputs": [],
   "source": [
    "# Define movie recommender model\n",
    "class MovieRecModel(tfrs.Model):\n",
    "    def __init__(self):\n",
    "        super().__init__()\n",
    "        self.ranking_model: tf.keras.Model = RankingModel()\n",
    "        self.task: tf.keras.layers.Layer = tfrs.tasks.Ranking(\n",
    "            loss=tf.keras.losses.MeanSquaredError(),\n",
    "            metrics=[tf.keras.metrics.RootMeanSquaredError()]\n",
    "        )\n",
    "\n",
    "    def call(self, inputs: Dict[Text, tf.Tensor]):\n",
    "        return self.ranking_model((inputs['user_id'], inputs['movie_title']))\n",
    "        \n",
    "\n",
    "    def compute_loss(self, inputs: Dict[Text, tf.Tensor], training: bool = False) -> tf.Tensor:\n",
    "        rating_prediction = self.ranking_model((inputs['user_id'], inputs['movie_title']))\n",
    "\n",
    "        return self.task(labels=inputs['user_rating'], predictions=rating_prediction)"
   ]
  },
  {
   "cell_type": "code",
   "execution_count": 27,
   "metadata": {},
   "outputs": [
    {
     "name": "stdout",
     "output_type": "stream",
     "text": [
      "Epoch 1/50\n",
      "8/8 [==============================] - 2s 58ms/step - root_mean_squared_error: 2.7057 - loss: 6.6558 - regularization_loss: 0.0000e+00 - total_loss: 6.6558\n",
      "Epoch 2/50\n",
      "8/8 [==============================] - 0s 40ms/step - root_mean_squared_error: 1.1737 - loss: 1.3490 - regularization_loss: 0.0000e+00 - total_loss: 1.3490\n",
      "Epoch 3/50\n",
      "8/8 [==============================] - 0s 40ms/step - root_mean_squared_error: 1.0470 - loss: 1.0945 - regularization_loss: 0.0000e+00 - total_loss: 1.0945\n",
      "Epoch 4/50\n",
      "8/8 [==============================] - 0s 39ms/step - root_mean_squared_error: 1.0391 - loss: 1.0795 - regularization_loss: 0.0000e+00 - total_loss: 1.0795\n",
      "Epoch 5/50\n",
      "8/8 [==============================] - 0s 47ms/step - root_mean_squared_error: 1.0381 - loss: 1.0775 - regularization_loss: 0.0000e+00 - total_loss: 1.0775\n",
      "Epoch 6/50\n",
      "8/8 [==============================] - 0s 39ms/step - root_mean_squared_error: 1.0372 - loss: 1.0757 - regularization_loss: 0.0000e+00 - total_loss: 1.0757\n",
      "Epoch 7/50\n",
      "8/8 [==============================] - 0s 34ms/step - root_mean_squared_error: 1.0361 - loss: 1.0733 - regularization_loss: 0.0000e+00 - total_loss: 1.0733\n",
      "Epoch 8/50\n",
      "8/8 [==============================] - 0s 33ms/step - root_mean_squared_error: 1.0347 - loss: 1.0704 - regularization_loss: 0.0000e+00 - total_loss: 1.0704\n",
      "Epoch 9/50\n",
      "8/8 [==============================] - 1s 80ms/step - root_mean_squared_error: 1.0330 - loss: 1.0670 - regularization_loss: 0.0000e+00 - total_loss: 1.0670\n",
      "Epoch 10/50\n",
      "8/8 [==============================] - 0s 47ms/step - root_mean_squared_error: 1.0311 - loss: 1.0629 - regularization_loss: 0.0000e+00 - total_loss: 1.0629\n",
      "Epoch 11/50\n",
      "8/8 [==============================] - 0s 40ms/step - root_mean_squared_error: 1.0288 - loss: 1.0581 - regularization_loss: 0.0000e+00 - total_loss: 1.0581\n",
      "Epoch 12/50\n",
      "8/8 [==============================] - 0s 41ms/step - root_mean_squared_error: 1.0261 - loss: 1.0526 - regularization_loss: 0.0000e+00 - total_loss: 1.0526\n",
      "Epoch 13/50\n",
      "8/8 [==============================] - 0s 39ms/step - root_mean_squared_error: 1.0231 - loss: 1.0464 - regularization_loss: 0.0000e+00 - total_loss: 1.0464\n",
      "Epoch 14/50\n",
      "8/8 [==============================] - 0s 39ms/step - root_mean_squared_error: 1.0199 - loss: 1.0400 - regularization_loss: 0.0000e+00 - total_loss: 1.0400\n",
      "Epoch 15/50\n",
      "8/8 [==============================] - 0s 40ms/step - root_mean_squared_error: 1.0168 - loss: 1.0339 - regularization_loss: 0.0000e+00 - total_loss: 1.0339\n",
      "Epoch 16/50\n",
      "8/8 [==============================] - 0s 40ms/step - root_mean_squared_error: 1.0141 - loss: 1.0285 - regularization_loss: 0.0000e+00 - total_loss: 1.0285\n",
      "Epoch 17/50\n",
      "8/8 [==============================] - 0s 38ms/step - root_mean_squared_error: 1.0112 - loss: 1.0226 - regularization_loss: 0.0000e+00 - total_loss: 1.0226\n",
      "Epoch 18/50\n",
      "8/8 [==============================] - 0s 56ms/step - root_mean_squared_error: 1.0071 - loss: 1.0142 - regularization_loss: 0.0000e+00 - total_loss: 1.0142\n",
      "Epoch 19/50\n",
      "8/8 [==============================] - 0s 39ms/step - root_mean_squared_error: 1.0018 - loss: 1.0035 - regularization_loss: 0.0000e+00 - total_loss: 1.0035\n",
      "Epoch 20/50\n",
      "8/8 [==============================] - 0s 38ms/step - root_mean_squared_error: 0.9962 - loss: 0.9923 - regularization_loss: 0.0000e+00 - total_loss: 0.9923\n",
      "Epoch 21/50\n",
      "8/8 [==============================] - 0s 44ms/step - root_mean_squared_error: 0.9911 - loss: 0.9822 - regularization_loss: 0.0000e+00 - total_loss: 0.9822\n",
      "Epoch 22/50\n",
      "8/8 [==============================] - 0s 50ms/step - root_mean_squared_error: 0.9865 - loss: 0.9731 - regularization_loss: 0.0000e+00 - total_loss: 0.9731\n",
      "Epoch 23/50\n",
      "8/8 [==============================] - 0s 51ms/step - root_mean_squared_error: 0.9824 - loss: 0.9650 - regularization_loss: 0.0000e+00 - total_loss: 0.9650\n",
      "Epoch 24/50\n",
      "8/8 [==============================] - 0s 47ms/step - root_mean_squared_error: 0.9784 - loss: 0.9573 - regularization_loss: 0.0000e+00 - total_loss: 0.9573\n",
      "Epoch 25/50\n",
      "8/8 [==============================] - 0s 51ms/step - root_mean_squared_error: 0.9746 - loss: 0.9498 - regularization_loss: 0.0000e+00 - total_loss: 0.9498\n",
      "Epoch 26/50\n",
      "8/8 [==============================] - 0s 49ms/step - root_mean_squared_error: 0.9709 - loss: 0.9425 - regularization_loss: 0.0000e+00 - total_loss: 0.9425\n",
      "Epoch 27/50\n",
      "8/8 [==============================] - 0s 49ms/step - root_mean_squared_error: 0.9672 - loss: 0.9354 - regularization_loss: 0.0000e+00 - total_loss: 0.9354\n",
      "Epoch 28/50\n",
      "8/8 [==============================] - 0s 48ms/step - root_mean_squared_error: 0.9636 - loss: 0.9285 - regularization_loss: 0.0000e+00 - total_loss: 0.9285\n",
      "Epoch 29/50\n",
      "8/8 [==============================] - 0s 45ms/step - root_mean_squared_error: 0.9602 - loss: 0.9220 - regularization_loss: 0.0000e+00 - total_loss: 0.9220\n",
      "Epoch 30/50\n",
      "8/8 [==============================] - 0s 47ms/step - root_mean_squared_error: 0.9571 - loss: 0.9159 - regularization_loss: 0.0000e+00 - total_loss: 0.9159\n",
      "Epoch 31/50\n",
      "8/8 [==============================] - 0s 55ms/step - root_mean_squared_error: 0.9540 - loss: 0.9101 - regularization_loss: 0.0000e+00 - total_loss: 0.9101\n",
      "Epoch 32/50\n",
      "8/8 [==============================] - 0s 50ms/step - root_mean_squared_error: 0.9511 - loss: 0.9045 - regularization_loss: 0.0000e+00 - total_loss: 0.9045\n",
      "Epoch 33/50\n",
      "8/8 [==============================] - 0s 51ms/step - root_mean_squared_error: 0.9483 - loss: 0.8992 - regularization_loss: 0.0000e+00 - total_loss: 0.8992\n",
      "Epoch 34/50\n",
      "8/8 [==============================] - 0s 39ms/step - root_mean_squared_error: 0.9456 - loss: 0.8941 - regularization_loss: 0.0000e+00 - total_loss: 0.8941\n",
      "Epoch 35/50\n",
      "8/8 [==============================] - 0s 39ms/step - root_mean_squared_error: 0.9431 - loss: 0.8893 - regularization_loss: 0.0000e+00 - total_loss: 0.8893\n",
      "Epoch 36/50\n",
      "8/8 [==============================] - 0s 40ms/step - root_mean_squared_error: 0.9407 - loss: 0.8848 - regularization_loss: 0.0000e+00 - total_loss: 0.8848\n",
      "Epoch 37/50\n",
      "8/8 [==============================] - 0s 39ms/step - root_mean_squared_error: 0.9384 - loss: 0.8805 - regularization_loss: 0.0000e+00 - total_loss: 0.8805\n",
      "Epoch 38/50\n",
      "8/8 [==============================] - 0s 53ms/step - root_mean_squared_error: 0.9362 - loss: 0.8764 - regularization_loss: 0.0000e+00 - total_loss: 0.8764\n",
      "Epoch 39/50\n",
      "8/8 [==============================] - 0s 39ms/step - root_mean_squared_error: 0.9342 - loss: 0.8725 - regularization_loss: 0.0000e+00 - total_loss: 0.8725\n",
      "Epoch 40/50\n",
      "8/8 [==============================] - 0s 38ms/step - root_mean_squared_error: 0.9321 - loss: 0.8687 - regularization_loss: 0.0000e+00 - total_loss: 0.8687\n",
      "Epoch 41/50\n",
      "8/8 [==============================] - 0s 38ms/step - root_mean_squared_error: 0.9302 - loss: 0.8651 - regularization_loss: 0.0000e+00 - total_loss: 0.8651\n",
      "Epoch 42/50\n",
      "8/8 [==============================] - 0s 39ms/step - root_mean_squared_error: 0.9283 - loss: 0.8616 - regularization_loss: 0.0000e+00 - total_loss: 0.8616\n",
      "Epoch 43/50\n",
      "8/8 [==============================] - 0s 38ms/step - root_mean_squared_error: 0.9265 - loss: 0.8582 - regularization_loss: 0.0000e+00 - total_loss: 0.8582\n",
      "Epoch 44/50\n",
      "8/8 [==============================] - 0s 40ms/step - root_mean_squared_error: 0.9247 - loss: 0.8549 - regularization_loss: 0.0000e+00 - total_loss: 0.8549\n",
      "Epoch 45/50\n",
      "8/8 [==============================] - 0s 41ms/step - root_mean_squared_error: 0.9230 - loss: 0.8517 - regularization_loss: 0.0000e+00 - total_loss: 0.8517\n",
      "Epoch 46/50\n",
      "8/8 [==============================] - 0s 40ms/step - root_mean_squared_error: 0.9214 - loss: 0.8488 - regularization_loss: 0.0000e+00 - total_loss: 0.8488\n",
      "Epoch 47/50\n",
      "8/8 [==============================] - 0s 39ms/step - root_mean_squared_error: 0.9199 - loss: 0.8461 - regularization_loss: 0.0000e+00 - total_loss: 0.8461\n",
      "Epoch 48/50\n",
      "8/8 [==============================] - 0s 40ms/step - root_mean_squared_error: 0.9186 - loss: 0.8435 - regularization_loss: 0.0000e+00 - total_loss: 0.8435\n",
      "Epoch 49/50\n",
      "8/8 [==============================] - 0s 43ms/step - root_mean_squared_error: 0.9172 - loss: 0.8410 - regularization_loss: 0.0000e+00 - total_loss: 0.8410\n",
      "Epoch 50/50\n",
      "8/8 [==============================] - 0s 47ms/step - root_mean_squared_error: 0.9158 - loss: 0.8384 - regularization_loss: 0.0000e+00 - total_loss: 0.8384\n"
     ]
    },
    {
     "data": {
      "text/plain": [
       "<keras.callbacks.History at 0x1decbedcf70>"
      ]
     },
     "execution_count": 27,
     "metadata": {},
     "output_type": "execute_result"
    }
   ],
   "source": [
    "# Compile the model\n",
    "model = MovieRecModel()\n",
    "model.compile(optimizer=tf.keras.optimizers.Adagrad(learning_rate=0.1))\n",
    "\n",
    "# Cache the dataset\n",
    "cached_train = train.batch(10000).cache()\n",
    "cached_test = test.batch(5000).cache()\n",
    "\n",
    "# Fit the model to train dataset\n",
    "model.fit(cached_train, epochs=50)"
   ]
  },
  {
   "cell_type": "code",
   "execution_count": 28,
   "metadata": {},
   "outputs": [
    {
     "data": {
      "image/png": "[encoded data removed]",
      "text/plain": [
       "<Figure size 640x480 with 1 Axes>"
      ]
     },
     "metadata": {},
     "output_type": "display_data"
    }
   ],
   "source": [
    "# Plot the loss if necessary\n",
    "import matplotlib.pyplot as plt\n",
    "import seaborn as sns\n",
    "\n",
    "fig, ax = plt.subplots()\n",
    "sns.lineplot(model.history.history['total_loss'])\n",
    "ax.set_ylim(0)\n",
    "plt.show()"
   ]
  },
  {
   "cell_type": "code",
   "execution_count": 29,
   "metadata": {},
   "outputs": [
    {
     "name": "stdout",
     "output_type": "stream",
     "text": [
      "4/4 [==============================] - 1s 20ms/step - root_mean_squared_error: 0.9666 - loss: 0.9327 - regularization_loss: 0.0000e+00 - total_loss: 0.9327\n"
     ]
    },
    {
     "data": {
      "text/plain": [
       "{'root_mean_squared_error': 0.9666138887405396,\n",
       " 'loss': 0.9260959029197693,\n",
       " 'regularization_loss': 0,\n",
       " 'total_loss': 0.9260959029197693}"
      ]
     },
     "execution_count": 29,
     "metadata": {},
     "output_type": "execute_result"
    }
   ],
   "source": [
    "# Evaluate model\n",
    "model.evaluate(cached_test, return_dict=True)"
   ]
  },
  {
   "cell_type": "code",
   "execution_count": 85,
   "metadata": {},
   "outputs": [
    {
     "name": "stdout",
     "output_type": "stream",
     "text": [
      "Predicted ratings\n",
      "Finding Forrester (2000): 3.89\n",
      "State and Main (2000): 3.88\n",
      "Billy Elliot (2000): 3.88\n",
      "Recess: School's Out (2001): 3.86\n",
      "Muppet Christmas Carol, The (1992): 3.86\n"
     ]
    }
   ],
   "source": [
    "# Inference testing those movies for user 20\n",
    "rating_result = {}\n",
    "movies_to_test = pd.read_csv(\"retrieved_titles.csv\")['0'].values # You can get these list of movies from the retrieval model\n",
    "for title in movies_to_test:\n",
    "    rating_result[title] =\\\n",
    "        model({'user_id': np.array(['20']),\n",
    "               'movie_title': np.array([title])})\n",
    "\n",
    "rating_result = dict(sorted(rating_result.items(), key=lambda item: item[1], reverse=True)[:5])\n",
    "print(\"Predicted ratings\")\n",
    "for i, x in enumerate(rating_result.items()):\n",
    "    if i < 5:\n",
    "        print(f\"{x[0]}: {x[1][0][0]:.2f}\")"
   ]
  },
  {
   "cell_type": "code",
   "execution_count": 86,
   "metadata": {},
   "outputs": [
    {
     "name": "stderr",
     "output_type": "stream",
     "text": [
      "WARNING:absl:Found untraced functions such as ranking_2_layer_call_fn, ranking_2_layer_call_and_return_conditional_losses, _update_step_xla while saving (showing 3 of 3). These functions will not be directly callable after loading.\n"
     ]
    },
    {
     "name": "stdout",
     "output_type": "stream",
     "text": [
      "INFO:tensorflow:Assets written to: .\\rating_model\\assets\n"
     ]
    },
    {
     "name": "stderr",
     "output_type": "stream",
     "text": [
      "INFO:tensorflow:Assets written to: .\\rating_model\\assets\n"
     ]
    }
   ],
   "source": [
    "import os\n",
    "\n",
    "path = os.path.join(os.curdir, \"rating_model\")\n",
    "# Save the model\n",
    "# This model accept user ID and movie title, and output a rating prediction that will be given by the user to the movie\n",
    "tf.saved_model.save(model, path)"
   ]
  }
 ],
 "metadata": {
  "kernelspec": {
   "display_name": ".venv",
   "language": "python",
   "name": "python3"
  },
  "language_info": {
   "codemirror_mode": {
    "name": "ipython",
    "version": 3
   },
   "file_extension": ".py",
   "mimetype": "text/x-python",
   "name": "python",
   "nbconvert_exporter": "python",
   "pygments_lexer": "ipython3",
   "version": "3.8.10"
  },
  "orig_nbformat": 4
 },
 "nbformat": 4,
 "nbformat_minor": 2
}
