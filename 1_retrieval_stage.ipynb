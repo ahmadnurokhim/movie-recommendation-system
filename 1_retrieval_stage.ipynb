{
 "cells": [
  {
   "cell_type": "code",
   "execution_count": 1,
   "metadata": {},
   "outputs": [
    {
     "name": "stderr",
     "output_type": "stream",
     "text": [
      "d:\\Work\\movie-recommendation-system\\.venv\\lib\\site-packages\\tqdm\\auto.py:21: TqdmWarning: IProgress not found. Please update jupyter and ipywidgets. See https://ipywidgets.readthedocs.io/en/stable/user_install.html\n",
      "  from .autonotebook import tqdm as notebook_tqdm\n"
     ]
    }
   ],
   "source": [
    "from typing import Dict, Text\n",
    "\n",
    "import numpy as np\n",
    "import tensorflow as tf\n",
    "\n",
    "import tensorflow_datasets as tfds\n",
    "import tensorflow_recommenders as tfrs\n",
    "import pandas as pd"
   ]
  },
  {
   "cell_type": "code",
   "execution_count": 2,
   "metadata": {},
   "outputs": [],
   "source": [
    "# Read the dataset csv file\n",
    "ratings = pd.read_csv(\"data/ratings_200k.csv\")\n",
    "movies = pd.read_csv(\"data/movies_2000.csv\")\n",
    "\n",
    "# Add movie title to ratings dataset\n",
    "ratings = pd.merge(ratings, movies[['title', 'movieId']], on='movieId')[['userId', 'title']]\n",
    "ratings['userId'] = ratings['userId'].apply(lambda x: str(x).encode())\n",
    "\n",
    "# Convert dataframe to tf dataset\n",
    "ratings = tf.data.Dataset.from_tensor_slices(ratings)\n",
    "movies = tf.data.Dataset.from_tensor_slices(movies['title'])\n",
    "\n",
    "# Convert ratings to dict type\n",
    "ratings = ratings.map(lambda x: {'userId': x[0], 'title': x[1]})"
   ]
  },
  {
   "cell_type": "code",
   "execution_count": 6,
   "metadata": {},
   "outputs": [],
   "source": [
    "# Convert the user id to int representation using StringLookup\n",
    "# This representation will be used in embedding\n",
    "user_ids_vocabulary = tf.keras.layers.StringLookup(mask_token=None)\n",
    "user_ids_vocabulary.adapt(ratings.map(lambda x: x[\"userId\"]))"
   ]
  },
  {
   "cell_type": "code",
   "execution_count": 7,
   "metadata": {},
   "outputs": [],
   "source": [
    "# Convert the movie title to int representation using StringLookup\n",
    "# This representation will be used in embedding\n",
    "movie_titles_vocabulary = tf.keras.layers.StringLookup(mask_token=None)\n",
    "movie_titles_vocabulary.adapt(movies)"
   ]
  },
  {
   "cell_type": "code",
   "execution_count": 11,
   "metadata": {},
   "outputs": [],
   "source": [
    "class MovieLensModel(tfrs.Model):\n",
    "  # We derive from a custom base class to help reduce boilerplate. Under the hood,\n",
    "  # these are still plain Keras Models.\n",
    "\n",
    "  def __init__(\n",
    "      self,\n",
    "      user_model: tf.keras.Model, # Query tower as input\n",
    "      movie_model: tf.keras.Model, # Candidate tower as input\n",
    "      task: tfrs.tasks.Retrieval):\n",
    "    super().__init__()\n",
    "\n",
    "    # Set up user and movie representations.\n",
    "    self.user_model = user_model\n",
    "    self.movie_model = movie_model\n",
    "\n",
    "    # Set up a retrieval task.\n",
    "    self.task = task\n",
    "\n",
    "  def compute_loss(self, features: Dict[Text, tf.Tensor], training=False) -> tf.Tensor:\n",
    "    # Define how the loss is computed.\n",
    "    user_embeddings = self.user_model(features[\"userId\"])\n",
    "    movie_embeddings = self.movie_model(features[\"title\"])\n",
    "\n",
    "    return self.task(user_embeddings, movie_embeddings)"
   ]
  },
  {
   "cell_type": "code",
   "execution_count": 12,
   "metadata": {},
   "outputs": [],
   "source": [
    "# Define user and movie models.\n",
    "user_model = tf.keras.Sequential([\n",
    "    user_ids_vocabulary,\n",
    "    tf.keras.layers.Embedding(user_ids_vocabulary.vocabulary_size(), 64)\n",
    "])\n",
    "movie_model = tf.keras.Sequential([\n",
    "    movie_titles_vocabulary,\n",
    "    tf.keras.layers.Embedding(movie_titles_vocabulary.vocabulary_size(), 64)\n",
    "])\n",
    "\n",
    "# Define your objectives.\n",
    "task = tfrs.tasks.Retrieval(metrics=tfrs.metrics.FactorizedTopK(\n",
    "    movies.batch(128).map(movie_model)\n",
    "  )\n",
    ")"
   ]
  },
  {
   "cell_type": "code",
   "execution_count": 15,
   "metadata": {},
   "outputs": [
    {
     "name": "stdout",
     "output_type": "stream",
     "text": [
      "Epoch 1/10\n",
      "49/49 [==============================] - 25s 492ms/step - factorized_top_k/top_1_categorical_accuracy: 0.0645 - factorized_top_k/top_5_categorical_accuracy: 0.1940 - factorized_top_k/top_10_categorical_accuracy: 0.2226 - factorized_top_k/top_50_categorical_accuracy: 0.2761 - factorized_top_k/top_100_categorical_accuracy: 0.3064 - loss: 31596.1183 - regularization_loss: 0.0000e+00 - total_loss: 31596.1183\n",
      "Epoch 2/10\n",
      "49/49 [==============================] - 29s 595ms/step - factorized_top_k/top_1_categorical_accuracy: 0.1283 - factorized_top_k/top_5_categorical_accuracy: 0.2817 - factorized_top_k/top_10_categorical_accuracy: 0.3057 - factorized_top_k/top_50_categorical_accuracy: 0.3735 - factorized_top_k/top_100_categorical_accuracy: 0.4224 - loss: 31616.3510 - regularization_loss: 0.0000e+00 - total_loss: 31616.3510\n",
      "Epoch 3/10\n",
      "49/49 [==============================] - 29s 596ms/step - factorized_top_k/top_1_categorical_accuracy: 0.1813 - factorized_top_k/top_5_categorical_accuracy: 0.4269 - factorized_top_k/top_10_categorical_accuracy: 0.4826 - factorized_top_k/top_50_categorical_accuracy: 0.6393 - factorized_top_k/top_100_categorical_accuracy: 0.7287 - loss: 24213.3109 - regularization_loss: 0.0000e+00 - total_loss: 24213.3109\n",
      "Epoch 4/10\n",
      "49/49 [==============================] - 26s 537ms/step - factorized_top_k/top_1_categorical_accuracy: 0.2792 - factorized_top_k/top_5_categorical_accuracy: 0.7257 - factorized_top_k/top_10_categorical_accuracy: 0.8006 - factorized_top_k/top_50_categorical_accuracy: 0.9118 - factorized_top_k/top_100_categorical_accuracy: 0.9443 - loss: 21554.6289 - regularization_loss: 0.0000e+00 - total_loss: 21554.6289\n",
      "Epoch 5/10\n",
      "49/49 [==============================] - 25s 520ms/step - factorized_top_k/top_1_categorical_accuracy: 0.2701 - factorized_top_k/top_5_categorical_accuracy: 0.7690 - factorized_top_k/top_10_categorical_accuracy: 0.8517 - factorized_top_k/top_50_categorical_accuracy: 0.9553 - factorized_top_k/top_100_categorical_accuracy: 0.9743 - loss: 20942.4676 - regularization_loss: 0.0000e+00 - total_loss: 20942.4676\n",
      "Epoch 6/10\n",
      "49/49 [==============================] - 29s 581ms/step - factorized_top_k/top_1_categorical_accuracy: 0.2645 - factorized_top_k/top_5_categorical_accuracy: 0.7864 - factorized_top_k/top_10_categorical_accuracy: 0.8767 - factorized_top_k/top_50_categorical_accuracy: 0.9707 - factorized_top_k/top_100_categorical_accuracy: 0.9838 - loss: 20591.8878 - regularization_loss: 0.0000e+00 - total_loss: 20591.8878\n",
      "Epoch 7/10\n",
      "49/49 [==============================] - 26s 534ms/step - factorized_top_k/top_1_categorical_accuracy: 0.2695 - factorized_top_k/top_5_categorical_accuracy: 0.7946 - factorized_top_k/top_10_categorical_accuracy: 0.8858 - factorized_top_k/top_50_categorical_accuracy: 0.9748 - factorized_top_k/top_100_categorical_accuracy: 0.9864 - loss: 20540.3978 - regularization_loss: 0.0000e+00 - total_loss: 20540.3978\n",
      "Epoch 8/10\n",
      "49/49 [==============================] - 27s 543ms/step - factorized_top_k/top_1_categorical_accuracy: 0.2692 - factorized_top_k/top_5_categorical_accuracy: 0.7962 - factorized_top_k/top_10_categorical_accuracy: 0.8894 - factorized_top_k/top_50_categorical_accuracy: 0.9775 - factorized_top_k/top_100_categorical_accuracy: 0.9885 - loss: 20492.5522 - regularization_loss: 0.0000e+00 - total_loss: 20492.5522\n",
      "Epoch 9/10\n",
      "49/49 [==============================] - 26s 533ms/step - factorized_top_k/top_1_categorical_accuracy: 0.2610 - factorized_top_k/top_5_categorical_accuracy: 0.7988 - factorized_top_k/top_10_categorical_accuracy: 0.8923 - factorized_top_k/top_50_categorical_accuracy: 0.9788 - factorized_top_k/top_100_categorical_accuracy: 0.9900 - loss: 20452.4845 - regularization_loss: 0.0000e+00 - total_loss: 20452.4845\n",
      "Epoch 10/10\n",
      "49/49 [==============================] - 28s 579ms/step - factorized_top_k/top_1_categorical_accuracy: 0.2664 - factorized_top_k/top_5_categorical_accuracy: 0.7983 - factorized_top_k/top_10_categorical_accuracy: 0.8940 - factorized_top_k/top_50_categorical_accuracy: 0.9805 - factorized_top_k/top_100_categorical_accuracy: 0.9914 - loss: 20415.1617 - regularization_loss: 0.0000e+00 - total_loss: 20415.1617\n"
     ]
    },
    {
     "data": {
      "text/plain": [
       "<tensorflow_recommenders.layers.factorized_top_k.BruteForce at 0x1e601e88ca0>"
      ]
     },
     "execution_count": 15,
     "metadata": {},
     "output_type": "execute_result"
    }
   ],
   "source": [
    "# Create a retrieval model.\n",
    "model = MovieLensModel(user_model, movie_model, task)\n",
    "model.compile(optimizer=tf.keras.optimizers.Adagrad(0.5))\n",
    "\n",
    "# Train for 3 epochs.\n",
    "model.fit(ratings.batch(4096), epochs=10)\n",
    "\n",
    "# Use brute-force search to set up retrieval using the trained representations.\n",
    "index = tfrs.layers.factorized_top_k.BruteForce(model.user_model)\n",
    "index.index_from_dataset(\n",
    "    movies.batch(100).map(lambda title: (title, model.movie_model(title))))"
   ]
  },
  {
   "cell_type": "code",
   "execution_count": 20,
   "metadata": {},
   "outputs": [
    {
     "name": "stdout",
     "output_type": "stream",
     "text": [
      "Top 3 recommendations for user 20: [b'Star Wars: Episode VI - Return of the Jedi (1983)'\n",
      " b\"Schindler's List (1993)\" b'Taxi Driver (1976)']\n"
     ]
    }
   ],
   "source": [
    "# Get 100 recommendations as the result of retrieval stage\n",
    "_, retrieved_titles = index(np.array([\"20\"]), k=100)\n",
    "print(f\"Top 3 recommendations for user 20: {retrieved_titles[0, :3]}\")"
   ]
  },
  {
   "cell_type": "code",
   "execution_count": 21,
   "metadata": {},
   "outputs": [
    {
     "data": {
      "text/plain": [
       "<tf.Tensor: shape=(1, 100), dtype=string, numpy=\n",
       "array([[b'Star Wars: Episode VI - Return of the Jedi (1983)',\n",
       "        b\"Schindler's List (1993)\", b'Taxi Driver (1976)',\n",
       "        b'Manhattan Murder Mystery (1993)',\n",
       "        b'American in Paris, An (1951)', b'Sin City (2005)',\n",
       "        b'Rogue One: A Star Wars Story (2016)',\n",
       "        b'Kill Bill: Vol. 1 (2003)', b'Vertigo (1958)',\n",
       "        b'Lord of the Rings: The Two Towers, The (2002)',\n",
       "        b'Name of the Rose, The (Name der Rose, Der) (1986)',\n",
       "        b'WALL\\xc2\\xb7E (2008)', b'Road, The (2009)', b'Fallen (1998)',\n",
       "        b'Jewel of the Nile, The (1985)', b'African Queen, The (1951)',\n",
       "        b'Avengers: Age of Ultron (2015)', b'Michael Clayton (2007)',\n",
       "        b'Bound (1996)', b'This Is the End (2013)',\n",
       "        b'Glengarry Glen Ross (1992)',\n",
       "        b'Grand Budapest Hotel, The (2014)', b'Rear Window (1954)',\n",
       "        b'Double Indemnity (1944)', b'Gone Girl (2014)', b'Hugo (2011)',\n",
       "        b'Easy Rider (1969)', b'Teenage Mutant Ninja Turtles (1990)',\n",
       "        b'Fatal Attraction (1987)', b'Big (1988)',\n",
       "        b'Sex, Lies, and Videotape (1989)', b'Dallas Buyers Club (2013)',\n",
       "        b'King Kong (2005)', b'Grifters, The (1990)',\n",
       "        b'Requiem for a Dream (2000)', b'Scarface (1983)',\n",
       "        b'Out of Sight (1998)', b'Crow, The (1994)',\n",
       "        b'Shakespeare in Love (1998)', b'Breaking Away (1979)',\n",
       "        b'Blue Lagoon, The (1980)', b'Dumbo (1941)',\n",
       "        b\"Miller's Crossing (1990)\", b'Gosford Park (2001)',\n",
       "        b'Guardians of the Galaxy (2014)', b'Superman (1978)',\n",
       "        b'Gods Must Be Crazy, The (1980)',\n",
       "        b\"Buffalo '66 (a.k.a. Buffalo 66) (1998)\",\n",
       "        b'Constant Gardener, The (2005)', b'Bad Boys II (2003)',\n",
       "        b\"City Slickers II: The Legend of Curly's Gold (1994)\",\n",
       "        b'Shrek the Third (2007)', b'Notorious (1946)',\n",
       "        b'In Bruges (2008)', b'Star Trek Beyond (2016)',\n",
       "        b'Lock, Stock & Two Smoking Barrels (1998)', b'Dogma (1999)',\n",
       "        b'12 Years a Slave (2013)', b'Karate Kid, Part III, The (1989)',\n",
       "        b'Man on Fire (2004)',\n",
       "        b'Perks of Being a Wallflower, The (2012)',\n",
       "        b'Charlie and the Chocolate Factory (2005)',\n",
       "        b'Forget Paris (1995)', b'Cinderella Man (2005)',\n",
       "        b'Nausica\\xc3\\xa4 of the Valley of the Wind (Kaze no tani no Naushika) (1984)',\n",
       "        b'Forbidden Planet (1956)', b'Dazed and Confused (1993)',\n",
       "        b'Sneakers (1992)', b'Robin Hood: Prince of Thieves (1991)',\n",
       "        b\"Amores Perros (Love's a Bitch) (2000)\",\n",
       "        b'Despicable Me 2 (2013)', b'8 1/2 (8\\xc2\\xbd) (1963)',\n",
       "        b'Social Network, The (2010)',\n",
       "        b'Princess Mononoke (Mononoke-hime) (1997)',\n",
       "        b'Professional, The (Le professionnel) (1981)',\n",
       "        b'Any Given Sunday (1999)', b'American Tail, An (1986)',\n",
       "        b\"Ocean's Eleven (2001)\", b'Once (2006)', b'Avatar (2009)',\n",
       "        b'Ghost Dog: The Way of the Samurai (1999)',\n",
       "        b'Snow White and the Seven Dwarfs (1937)', b'Life of Pi (2012)',\n",
       "        b'Inception (2010)', b'American Werewolf in London, An (1981)',\n",
       "        b'Matrix, The (1999)', b'Super Size Me (2004)',\n",
       "        b'Metropolis (1927)', b'Star Trek Into Darkness (2013)',\n",
       "        b'Firm, The (1993)', b'Magnificent Seven, The (1960)',\n",
       "        b'Stir of Echoes (1999)', b'Amadeus (1984)',\n",
       "        b'Harry Potter and the Deathly Hallows: Part 2 (2011)',\n",
       "        b'Men of Honor (2000)', b'Spotlight (2015)', b'In Time (2011)',\n",
       "        b'Guardians of the Galaxy 2 (2017)',\n",
       "        b'History of Violence, A (2005)', b'Few Good Men, A (1992)']],\n",
       "      dtype=object)>"
      ]
     },
     "execution_count": 21,
     "metadata": {},
     "output_type": "execute_result"
    }
   ],
   "source": [
    "retrieved_titles"
   ]
  }
 ],
 "metadata": {
  "kernelspec": {
   "display_name": ".venv",
   "language": "python",
   "name": "python3"
  },
  "language_info": {
   "codemirror_mode": {
    "name": "ipython",
    "version": 3
   },
   "file_extension": ".py",
   "mimetype": "text/x-python",
   "name": "python",
   "nbconvert_exporter": "python",
   "pygments_lexer": "ipython3",
   "version": "3.8.10"
  },
  "orig_nbformat": 4
 },
 "nbformat": 4,
 "nbformat_minor": 2
}
