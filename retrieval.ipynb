{
 "cells": [
  {
   "attachments": {},
   "cell_type": "markdown",
   "metadata": {},
   "source": [
    "# Imports"
   ]
  },
  {
   "cell_type": "code",
   "execution_count": 2,
   "metadata": {},
   "outputs": [
    {
     "name": "stderr",
     "output_type": "stream",
     "text": [
      "d:\\Work\\movie-recommendation-system\\.venv\\lib\\site-packages\\tqdm\\auto.py:21: TqdmWarning: IProgress not found. Please update jupyter and ipywidgets. See https://ipywidgets.readthedocs.io/en/stable/user_install.html\n",
      "  from .autonotebook import tqdm as notebook_tqdm\n"
     ]
    }
   ],
   "source": [
    "from typing import Dict, Text\n",
    "\n",
    "import numpy as np\n",
    "import tensorflow as tf\n",
    "\n",
    "import tensorflow_datasets as tfds\n",
    "import tensorflow_recommenders as tfrs\n",
    "import pandas as pd"
   ]
  },
  {
   "attachments": {},
   "cell_type": "markdown",
   "metadata": {},
   "source": [
    "# Datasets"
   ]
  },
  {
   "cell_type": "code",
   "execution_count": 3,
   "metadata": {},
   "outputs": [],
   "source": [
    "# Read the dataset from tfds\n",
    "ratings = tfds.load('movielens/latest-small-ratings', split='train')\n",
    "movies = tfds.load('movielens/latest-small-movies', split='train')\n",
    "\n",
    "# Select the needed feature\n",
    "# x['features'] can be done because the dataset are in form of FeaturesDict, check the docs\n",
    "ratings = ratings.map(lambda x: {\n",
    "    'user_id': x['user_id'],        \n",
    "    'movie_title': x['movie_title']\n",
    "    })\n",
    "movies = movies.map(lambda x: x['movie_title'])\n",
    "\n",
    "# Randomize the dataset\n",
    "tf.random.set_seed(20)\n",
    "shuffled = ratings.shuffle(100000, seed=20, reshuffle_each_iteration=False)\n",
    "\n",
    "train = shuffled.take(80000)\n",
    "test = shuffled.skip(80000).take(20000)"
   ]
  },
  {
   "attachments": {},
   "cell_type": "markdown",
   "metadata": {},
   "source": [
    "If your dataset are from csv, you can convert that to TF dataset. Below is an example of its implementation.\n",
    "\n",
    "``` python\n",
    "# Read the dataset csv file\n",
    "ratings = pd.read_csv(\"data/ratings_200k.csv\")\n",
    "movies = pd.read_csv(\"data/movies_2000.csv\")\n",
    "\n",
    "# Add movie title to ratings dataset\n",
    "ratings = pd.merge(ratings, movies[['title', 'movieId']], on='movieId')[['userId', 'title']]\n",
    "ratings['userId'] = ratings['userId'].apply(lambda x: str(x).encode())\n",
    "\n",
    "# Convert dataframe to tf dataset\n",
    "ratings = tf.data.Dataset.from_tensor_slices(ratings)\n",
    "movies = tf.data.Dataset.from_tensor_slices(movies['title'])\n",
    "\n",
    "# Convert ratings to dict type\n",
    "ratings = ratings.map(lambda x: {'userId': x[0], 'title': x[1]})\n",
    "```"
   ]
  },
  {
   "cell_type": "code",
   "execution_count": 4,
   "metadata": {},
   "outputs": [],
   "source": [
    "# Get the unique user id and movie title\n",
    "# Alternatively, you can skip this step by passing user ids and movie titles to StringLookup().adapt() but it will be slower\n",
    "movie_titles = movies.batch(1000)\n",
    "user_ids = ratings.batch(1000000).map(lambda x: x[\"user_id\"])\n",
    "\n",
    "uniq_movie_titles = np.unique(np.concatenate(list(movie_titles)))\n",
    "uniq_user_ids = np.unique(np.concatenate(list(user_ids)))"
   ]
  },
  {
   "cell_type": "code",
   "execution_count": 5,
   "metadata": {},
   "outputs": [],
   "source": [
    "# Convert the user id and movie title to int representation using StringLookup\n",
    "# These representation will be used in embedding\n",
    "movie_titles_vocabulary = tf.keras.layers.StringLookup(vocabulary=uniq_movie_titles, mask_token=None)\n",
    "user_ids_vocabulary = tf.keras.layers.StringLookup(vocabulary=uniq_user_ids, mask_token=None)"
   ]
  },
  {
   "attachments": {},
   "cell_type": "markdown",
   "metadata": {},
   "source": [
    "# Models"
   ]
  },
  {
   "cell_type": "code",
   "execution_count": 6,
   "metadata": {},
   "outputs": [],
   "source": [
    "# Create a class based on tfrs.Model\n",
    "class MovieRecModel(tfrs.Model):\n",
    "  def __init__(\n",
    "      self,\n",
    "      user_model: tf.keras.Model, # Query embedding tower as input\n",
    "      movie_model: tf.keras.Model, # Candidate embedding tower as input\n",
    "      task: tfrs.tasks.Retrieval):\n",
    "    super().__init__()\n",
    "\n",
    "    # Assign the query/user and candidate/movie embedding tower to self\n",
    "    self.user_model = user_model\n",
    "    self.movie_model = movie_model\n",
    "\n",
    "    # Assign the retrieval task.\n",
    "    self.task = task\n",
    "\n",
    "  def compute_loss(self, features: Dict[Text, tf.Tensor], training=False) -> tf.Tensor:\n",
    "    # Define how the loss is computed.\n",
    "    user_embeddings = self.user_model(features[\"user_id\"])\n",
    "    movie_embeddings = self.movie_model(features[\"movie_title\"])\n",
    "\n",
    "    return self.task(user_embeddings, movie_embeddings)"
   ]
  },
  {
   "cell_type": "code",
   "execution_count": 7,
   "metadata": {},
   "outputs": [],
   "source": [
    "# Define user and movie models.\n",
    "user_model = tf.keras.Sequential([\n",
    "    user_ids_vocabulary,\n",
    "    tf.keras.layers.Embedding(user_ids_vocabulary.vocabulary_size(), 64)\n",
    "])\n",
    "movie_model = tf.keras.Sequential([\n",
    "    movie_titles_vocabulary,\n",
    "    tf.keras.layers.Embedding(movie_titles_vocabulary.vocabulary_size(), 64)\n",
    "])\n",
    "\n",
    "# Define your objectives.\n",
    "task = tfrs.tasks.Retrieval(metrics=tfrs.metrics.FactorizedTopK(\n",
    "    movies.batch(128).map(movie_model)\n",
    "  )\n",
    ")"
   ]
  },
  {
   "cell_type": "code",
   "execution_count": 8,
   "metadata": {},
   "outputs": [
    {
     "name": "stdout",
     "output_type": "stream",
     "text": [
      "Epoch 1/10\n",
      "25/25 [==============================] - 45s 2s/step - factorized_top_k/top_1_categorical_accuracy: 1.9834e-05 - factorized_top_k/top_5_categorical_accuracy: 6.8428e-04 - factorized_top_k/top_10_categorical_accuracy: 0.0020 - factorized_top_k/top_50_categorical_accuracy: 0.0186 - factorized_top_k/top_100_categorical_accuracy: 0.0406 - loss: 33367.1468 - regularization_loss: 0.0000e+00 - total_loss: 33367.1468\n",
      "Epoch 2/10\n",
      "25/25 [==============================] - 50s 2s/step - factorized_top_k/top_1_categorical_accuracy: 7.9337e-05 - factorized_top_k/top_5_categorical_accuracy: 0.0023 - factorized_top_k/top_10_categorical_accuracy: 0.0075 - factorized_top_k/top_50_categorical_accuracy: 0.0665 - factorized_top_k/top_100_categorical_accuracy: 0.1290 - loss: 30656.6683 - regularization_loss: 0.0000e+00 - total_loss: 30656.6683\n",
      "Epoch 3/10\n",
      "25/25 [==============================] - 53s 2s/step - factorized_top_k/top_1_categorical_accuracy: 7.8345e-04 - factorized_top_k/top_5_categorical_accuracy: 0.0060 - factorized_top_k/top_10_categorical_accuracy: 0.0147 - factorized_top_k/top_50_categorical_accuracy: 0.0959 - factorized_top_k/top_100_categorical_accuracy: 0.1737 - loss: 29359.9074 - regularization_loss: 0.0000e+00 - total_loss: 29359.9074\n",
      "Epoch 4/10\n",
      "25/25 [==============================] - 43s 2s/step - factorized_top_k/top_1_categorical_accuracy: 0.0016 - factorized_top_k/top_5_categorical_accuracy: 0.0079 - factorized_top_k/top_10_categorical_accuracy: 0.0191 - factorized_top_k/top_50_categorical_accuracy: 0.1193 - factorized_top_k/top_100_categorical_accuracy: 0.2115 - loss: 28730.1446 - regularization_loss: 0.0000e+00 - total_loss: 28730.1446\n",
      "Epoch 5/10\n",
      "25/25 [==============================] - 45s 2s/step - factorized_top_k/top_1_categorical_accuracy: 0.0014 - factorized_top_k/top_5_categorical_accuracy: 0.0077 - factorized_top_k/top_10_categorical_accuracy: 0.0191 - factorized_top_k/top_50_categorical_accuracy: 0.1341 - factorized_top_k/top_100_categorical_accuracy: 0.2355 - loss: 28340.2397 - regularization_loss: 0.0000e+00 - total_loss: 28340.2397\n",
      "Epoch 6/10\n",
      "25/25 [==============================] - 43s 2s/step - factorized_top_k/top_1_categorical_accuracy: 0.0017 - factorized_top_k/top_5_categorical_accuracy: 0.0087 - factorized_top_k/top_10_categorical_accuracy: 0.0211 - factorized_top_k/top_50_categorical_accuracy: 0.1464 - factorized_top_k/top_100_categorical_accuracy: 0.2575 - loss: 28024.9842 - regularization_loss: 0.0000e+00 - total_loss: 28024.9842\n",
      "Epoch 7/10\n",
      "25/25 [==============================] - 49s 2s/step - factorized_top_k/top_1_categorical_accuracy: 0.0014 - factorized_top_k/top_5_categorical_accuracy: 0.0083 - factorized_top_k/top_10_categorical_accuracy: 0.0208 - factorized_top_k/top_50_categorical_accuracy: 0.1551 - factorized_top_k/top_100_categorical_accuracy: 0.2739 - loss: 27776.0162 - regularization_loss: 0.0000e+00 - total_loss: 27776.0162\n",
      "Epoch 8/10\n",
      "25/25 [==============================] - 51s 2s/step - factorized_top_k/top_1_categorical_accuracy: 0.0013 - factorized_top_k/top_5_categorical_accuracy: 0.0080 - factorized_top_k/top_10_categorical_accuracy: 0.0211 - factorized_top_k/top_50_categorical_accuracy: 0.1622 - factorized_top_k/top_100_categorical_accuracy: 0.2852 - loss: 27566.9735 - regularization_loss: 0.0000e+00 - total_loss: 27566.9735\n",
      "Epoch 9/10\n",
      "25/25 [==============================] - 59s 2s/step - factorized_top_k/top_1_categorical_accuracy: 0.0018 - factorized_top_k/top_5_categorical_accuracy: 0.0087 - factorized_top_k/top_10_categorical_accuracy: 0.0222 - factorized_top_k/top_50_categorical_accuracy: 0.1683 - factorized_top_k/top_100_categorical_accuracy: 0.2936 - loss: 27373.6638 - regularization_loss: 0.0000e+00 - total_loss: 27373.6638\n",
      "Epoch 10/10\n",
      "25/25 [==============================] - 59s 2s/step - factorized_top_k/top_1_categorical_accuracy: 0.0016 - factorized_top_k/top_5_categorical_accuracy: 0.0090 - factorized_top_k/top_10_categorical_accuracy: 0.0228 - factorized_top_k/top_50_categorical_accuracy: 0.1723 - factorized_top_k/top_100_categorical_accuracy: 0.3009 - loss: 27220.2131 - regularization_loss: 0.0000e+00 - total_loss: 27220.2131\n"
     ]
    },
    {
     "data": {
      "text/plain": [
       "<keras.callbacks.History at 0x234c45f9490>"
      ]
     },
     "execution_count": 8,
     "metadata": {},
     "output_type": "execute_result"
    }
   ],
   "source": [
    "# Create a retrieval model.\n",
    "model = MovieRecModel(user_model, movie_model, task)\n",
    "model.compile(optimizer=tf.keras.optimizers.Adagrad(0.5))\n",
    "\n",
    "# Cache the dataset\n",
    "cached_train = train.shuffle(100_000).batch(8192).cache()\n",
    "cached_test = test.batch(4096).cache()\n",
    "\n",
    "# Train for 3 epochs.\n",
    "model.fit(ratings.batch(4096), epochs=10)"
   ]
  },
  {
   "cell_type": "code",
   "execution_count": 9,
   "metadata": {},
   "outputs": [
    {
     "name": "stdout",
     "output_type": "stream",
     "text": [
      "5/5 [==============================] - 11s 2s/step - factorized_top_k/top_1_categorical_accuracy: 0.0037 - factorized_top_k/top_5_categorical_accuracy: 0.0269 - factorized_top_k/top_10_categorical_accuracy: 0.0580 - factorized_top_k/top_50_categorical_accuracy: 0.2412 - factorized_top_k/top_100_categorical_accuracy: 0.3693 - loss: 26042.4212 - regularization_loss: 0.0000e+00 - total_loss: 26042.4212\n"
     ]
    },
    {
     "data": {
      "text/plain": [
       "{'factorized_top_k/top_1_categorical_accuracy': 0.0037499999161809683,\n",
       " 'factorized_top_k/top_5_categorical_accuracy': 0.026900000870227814,\n",
       " 'factorized_top_k/top_10_categorical_accuracy': 0.0580499991774559,\n",
       " 'factorized_top_k/top_50_categorical_accuracy': 0.24124999344348907,\n",
       " 'factorized_top_k/top_100_categorical_accuracy': 0.36934998631477356,\n",
       " 'loss': 23552.390625,\n",
       " 'regularization_loss': 0,\n",
       " 'total_loss': 23552.390625}"
      ]
     },
     "execution_count": 9,
     "metadata": {},
     "output_type": "execute_result"
    }
   ],
   "source": [
    "model.evaluate(cached_test, return_dict=True)"
   ]
  },
  {
   "cell_type": "code",
   "execution_count": 12,
   "metadata": {},
   "outputs": [
    {
     "data": {
      "text/plain": [
       "<tensorflow_recommenders.layers.factorized_top_k.BruteForce at 0x234c44b6850>"
      ]
     },
     "execution_count": 12,
     "metadata": {},
     "output_type": "execute_result"
    }
   ],
   "source": [
    "# Use brute-force search to set up retrieval using the trained representations\n",
    "# This index is used for brute-force retrieval based on user representations\n",
    "# The model.user_model refers to the trained model that provides the user representations.\n",
    "index = tfrs.layers.factorized_top_k.BruteForce(model.user_model)\n",
    "\n",
    "# .index_from_dataset takes candidates as input which in a form of (movie title, movie title embedding) pairs\n",
    "# The embedding can be obtained using model.movie_model\n",
    "index.index_from_dataset(movies.batch(100).map(lambda movie_title: (movie_title, model.movie_model(movie_title))))"
   ]
  },
  {
   "cell_type": "code",
   "execution_count": 29,
   "metadata": {},
   "outputs": [
    {
     "name": "stdout",
     "output_type": "stream",
     "text": [
      "Top 10 recommendations for user 20:\n",
      "- Shiloh (1997)\n",
      "- Soft Fruit (1999)\n",
      "- Adanggaman (2000)\n",
      "- Black Stallion, The (1979)\n",
      "- Endurance: Shackleton's Legendary Antarctic Expedition, The (2000)\n",
      "- Kiss Me Kate (1953)\n",
      "- Jimmy Neutron: Boy Genius (2001)\n",
      "- Trail of the Pink Panther (1982)\n",
      "- Unfaithful (2002)\n",
      "- Dennis the Menace (1993)\n"
     ]
    }
   ],
   "source": [
    "# Get 10 recommendations as the result of retrieval stage\n",
    "scores, retrieved_titles = index(np.array([\"20\"]), k=10)\n",
    "\n",
    "# Print the recommendations\n",
    "print(f\"Top 10 recommendations for user 20:\")\n",
    "for movie in retrieved_titles[0]:\n",
    "    print(f\"- {movie.numpy().decode('utf-8')}\")"
   ]
  },
  {
   "cell_type": "code",
   "execution_count": 32,
   "metadata": {},
   "outputs": [],
   "source": [
    "# Get 1000 recommendations as the result of retrieval stage\n",
    "scores, retrieved_titles_100 = index(np.array([\"20\"]), k=100)\n",
    "\n",
    "# Save the recommendations\n",
    "pd.DataFrame(retrieved_titles_100[0].numpy()).applymap(lambda x: x.decode('utf-8')).to_csv(\"retrieved_titles.csv\", index=False)"
   ]
  },
  {
   "cell_type": "code",
   "execution_count": 14,
   "metadata": {},
   "outputs": [
    {
     "name": "stdout",
     "output_type": "stream",
     "text": [
      "WARNING:tensorflow:Model's `__init__()` arguments contain non-serializable objects. Please implement a `get_config()` method in the subclassed Model for proper saving and loading. Defaulting to empty config.\n"
     ]
    },
    {
     "name": "stderr",
     "output_type": "stream",
     "text": [
      "WARNING:tensorflow:Model's `__init__()` arguments contain non-serializable objects. Please implement a `get_config()` method in the subclassed Model for proper saving and loading. Defaulting to empty config.\n"
     ]
    },
    {
     "name": "stdout",
     "output_type": "stream",
     "text": [
      "WARNING:tensorflow:Model's `__init__()` arguments contain non-serializable objects. Please implement a `get_config()` method in the subclassed Model for proper saving and loading. Defaulting to empty config.\n"
     ]
    },
    {
     "name": "stderr",
     "output_type": "stream",
     "text": [
      "WARNING:tensorflow:Model's `__init__()` arguments contain non-serializable objects. Please implement a `get_config()` method in the subclassed Model for proper saving and loading. Defaulting to empty config.\n",
      "WARNING:absl:Found untraced functions such as query_with_exclusions while saving (showing 1 of 1). These functions will not be directly callable after loading.\n"
     ]
    },
    {
     "name": "stdout",
     "output_type": "stream",
     "text": [
      "INFO:tensorflow:Assets written to: .\\retrieval_model\\assets\n"
     ]
    },
    {
     "name": "stderr",
     "output_type": "stream",
     "text": [
      "INFO:tensorflow:Assets written to: .\\retrieval_model\\assets\n"
     ]
    }
   ],
   "source": [
    "import os\n",
    "\n",
    "path = os.path.join(os.curdir, \"retrieval_model\")\n",
    "\n",
    "# Save the model query model\n",
    "tf.saved_model.save(index, path)"
   ]
  }
 ],
 "metadata": {
  "kernelspec": {
   "display_name": ".venv",
   "language": "python",
   "name": "python3"
  },
  "language_info": {
   "codemirror_mode": {
    "name": "ipython",
    "version": 3
   },
   "file_extension": ".py",
   "mimetype": "text/x-python",
   "name": "python",
   "nbconvert_exporter": "python",
   "pygments_lexer": "ipython3",
   "version": "3.8.10"
  },
  "orig_nbformat": 4
 },
 "nbformat": 4,
 "nbformat_minor": 2
}
