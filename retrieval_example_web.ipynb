{
 "cells": [
  {
   "cell_type": "code",
   "execution_count": 8,
   "metadata": {},
   "outputs": [],
   "source": [
    "from typing import Dict, Text\n",
    "\n",
    "import numpy as np\n",
    "import tensorflow as tf\n",
    "\n",
    "import tensorflow_datasets as tfds\n",
    "import tensorflow_recommenders as tfrs"
   ]
  },
  {
   "cell_type": "code",
   "execution_count": 17,
   "metadata": {},
   "outputs": [],
   "source": [
    "# Ratings data.\n",
    "ratings = tfds.load('movielens/100k-ratings', split=\"train\")\n",
    "# Features of all the available movies.\n",
    "movies = tfds.load('movielens/100k-movies', split=\"train\")\n",
    "\n",
    "# Select the basic features.\n",
    "ratings = ratings.map(lambda x: {\n",
    "    \"movie_title\": x[\"movie_title\"],\n",
    "    \"user_id\": x[\"user_id\"]\n",
    "})\n",
    "movies = movies.map(lambda x: x[\"movie_title\"])"
   ]
  },
  {
   "cell_type": "code",
   "execution_count": 25,
   "metadata": {},
   "outputs": [
    {
     "data": {
      "text/plain": [
       "(1682,)"
      ]
     },
     "execution_count": 25,
     "metadata": {},
     "output_type": "execute_result"
    }
   ],
   "source": [
    "np.array(list(movies.as_numpy_iterator())).shape"
   ]
  },
  {
   "cell_type": "code",
   "execution_count": 6,
   "metadata": {},
   "outputs": [
    {
     "data": {
      "text/plain": [
       "[<tf.Tensor: shape=(), dtype=string, numpy=b'138'>]"
      ]
     },
     "execution_count": 6,
     "metadata": {},
     "output_type": "execute_result"
    }
   ],
   "source": [
    "list(ratings.map(lambda x: x[\"user_id\"]).take(1))"
   ]
  },
  {
   "cell_type": "code",
   "execution_count": 3,
   "metadata": {},
   "outputs": [],
   "source": [
    "user_ids_vocabulary = tf.keras.layers.StringLookup(mask_token=None)\n",
    "user_ids_vocabulary.adapt(ratings.map(lambda x: x[\"user_id\"]))\n",
    "\n",
    "movie_titles_vocabulary = tf.keras.layers.StringLookup(mask_token=None)\n",
    "movie_titles_vocabulary.adapt(movies)"
   ]
  },
  {
   "cell_type": "code",
   "execution_count": 4,
   "metadata": {},
   "outputs": [],
   "source": [
    "class MovieLensModel(tfrs.Model):\n",
    "  # We derive from a custom base class to help reduce boilerplate. Under the hood,\n",
    "  # these are still plain Keras Models.\n",
    "\n",
    "  def __init__(\n",
    "      self,\n",
    "      user_model: tf.keras.Model,\n",
    "      movie_model: tf.keras.Model,\n",
    "      task: tfrs.tasks.Retrieval):\n",
    "    super().__init__()\n",
    "\n",
    "    # Set up user and movie representations.\n",
    "    self.user_model = user_model\n",
    "    self.movie_model = movie_model\n",
    "\n",
    "    # Set up a retrieval task.\n",
    "    self.task = task\n",
    "\n",
    "  def compute_loss(self, features: Dict[Text, tf.Tensor], training=False) -> tf.Tensor:\n",
    "    # Define how the loss is computed.\n",
    "\n",
    "    user_embeddings = self.user_model(features[\"user_id\"])\n",
    "    movie_embeddings = self.movie_model(features[\"movie_title\"])\n",
    "\n",
    "    return self.task(user_embeddings, movie_embeddings)"
   ]
  },
  {
   "cell_type": "code",
   "execution_count": 5,
   "metadata": {},
   "outputs": [],
   "source": [
    "# Define user and movie models.\n",
    "user_model = tf.keras.Sequential([\n",
    "    user_ids_vocabulary,\n",
    "    tf.keras.layers.Embedding(user_ids_vocabulary.vocabulary_size(), 64)\n",
    "])\n",
    "movie_model = tf.keras.Sequential([\n",
    "    movie_titles_vocabulary,\n",
    "    tf.keras.layers.Embedding(movie_titles_vocabulary.vocabulary_size(), 64)\n",
    "])\n",
    "\n",
    "# Define your objectives.\n",
    "task = tfrs.tasks.Retrieval(metrics=tfrs.metrics.FactorizedTopK(\n",
    "    movies.batch(128).map(movie_model)\n",
    "  )\n",
    ")"
   ]
  },
  {
   "cell_type": "code",
   "execution_count": 6,
   "metadata": {},
   "outputs": [
    {
     "name": "stdout",
     "output_type": "stream",
     "text": [
      "Epoch 1/3\n",
      "25/25 [==============================] - 17s 543ms/step - factorized_top_k/top_1_categorical_accuracy: 7.0000e-05 - factorized_top_k/top_5_categorical_accuracy: 0.0016 - factorized_top_k/top_10_categorical_accuracy: 0.0045 - factorized_top_k/top_50_categorical_accuracy: 0.0418 - factorized_top_k/top_100_categorical_accuracy: 0.0976 - loss: 33103.7979 - regularization_loss: 0.0000e+00 - total_loss: 33103.7979\n",
      "Epoch 2/3\n",
      "25/25 [==============================] - 14s 571ms/step - factorized_top_k/top_1_categorical_accuracy: 1.8000e-04 - factorized_top_k/top_5_categorical_accuracy: 0.0051 - factorized_top_k/top_10_categorical_accuracy: 0.0143 - factorized_top_k/top_50_categorical_accuracy: 0.1046 - factorized_top_k/top_100_categorical_accuracy: 0.2102 - loss: 31012.4739 - regularization_loss: 0.0000e+00 - total_loss: 31012.4739\n",
      "Epoch 3/3\n",
      "25/25 [==============================] - 15s 581ms/step - factorized_top_k/top_1_categorical_accuracy: 3.9000e-04 - factorized_top_k/top_5_categorical_accuracy: 0.0082 - factorized_top_k/top_10_categorical_accuracy: 0.0218 - factorized_top_k/top_50_categorical_accuracy: 0.1437 - factorized_top_k/top_100_categorical_accuracy: 0.2686 - loss: 30420.1288 - regularization_loss: 0.0000e+00 - total_loss: 30420.1288\n"
     ]
    },
    {
     "data": {
      "text/plain": [
       "<tensorflow_recommenders.layers.factorized_top_k.BruteForce at 0x2d724557790>"
      ]
     },
     "execution_count": 6,
     "metadata": {},
     "output_type": "execute_result"
    }
   ],
   "source": [
    "# Create a retrieval model.\n",
    "model = MovieLensModel(user_model, movie_model, task)\n",
    "model.compile(optimizer=tf.keras.optimizers.Adagrad(0.5))\n",
    "\n",
    "# Train for 3 epochs.\n",
    "model.fit(ratings.batch(4096), epochs=3)\n",
    "\n",
    "# Use brute-force search to set up retrieval using the trained representations.\n",
    "index = tfrs.layers.factorized_top_k.BruteForce(model.user_model)\n",
    "index.index_from_dataset(\n",
    "    movies.batch(100).map(lambda title: (title, model.movie_model(title))))"
   ]
  },
  {
   "cell_type": "code",
   "execution_count": 14,
   "metadata": {},
   "outputs": [
    {
     "name": "stdout",
     "output_type": "stream",
     "text": [
      "Top 3 recommendations for user 2: [b'3 Ninjas: High Noon At Mega Mountain (1998)' b'Promesse, La (1996)'\n",
      " b'Once Upon a Time... When We Were Colored (1995)']\n"
     ]
    }
   ],
   "source": [
    "# Get some recommendations.\n",
    "_, titles = index(np.array([\"2\"]), k=200)\n",
    "print(f\"Top 3 recommendations for user 2: {titles[0, :3]}\")"
   ]
  },
  {
   "cell_type": "code",
   "execution_count": 15,
   "metadata": {},
   "outputs": [
    {
     "data": {
      "text/plain": [
       "<tf.Tensor: shape=(1, 200), dtype=string, numpy=\n",
       "array([[b'3 Ninjas: High Noon At Mega Mountain (1998)',\n",
       "        b'Promesse, La (1996)',\n",
       "        b'Once Upon a Time... When We Were Colored (1995)',\n",
       "        b'For the Moment (1994)', b\"Antonia's Line (1995)\",\n",
       "        b\"Marvin's Room (1996)\", b'Shall We Dance? (1996)',\n",
       "        b'FairyTale: A True Story (1997)',\n",
       "        b'Cry, the Beloved Country (1995)',\n",
       "        b'Sense and Sensibility (1995)', b\"Boy's Life 2 (1997)\",\n",
       "        b'Postman, The (1997)', b'Deceiver (1997)', b'Deceiver (1997)',\n",
       "        b'Family Thing, A (1996)', b'Ponette (1996)',\n",
       "        b'Guantanamera (1994)', b'Mighty Aphrodite (1995)',\n",
       "        b'Paradise Road (1997)', b'Secrets & Lies (1996)',\n",
       "        b'Before and After (1996)', b'Bed of Roses (1996)',\n",
       "        b'Kolya (1996)', b'To Gillian on Her 37th Birthday (1996)',\n",
       "        b\"Widows' Peak (1994)\", b'Breakdown (1997)',\n",
       "        b'Postino, Il (1994)', b'River Wild, The (1994)',\n",
       "        b'Midnight in the Garden of Good and Evil (1997)',\n",
       "        b'Ripe (1996)', b'Emma (1996)', b\"Ulee's Gold (1997)\",\n",
       "        b\"Ulee's Gold (1997)\", b'Lone Star (1996)',\n",
       "        b'Time to Kill, A (1996)', b'Wild Reeds (1994)', b'Bliss (1997)',\n",
       "        b'Touch (1997)', b'A Chef in Love (1996)',\n",
       "        b'Broken English (1996)', b'Up Close and Personal (1996)',\n",
       "        b'Mina Tannenbaum (1994)', b'Sixth Man, The (1997)',\n",
       "        b'Paris Was a Woman (1995)', b'Beautiful Thing (1996)',\n",
       "        b'Sweet Nothing (1995)', b'Anna Karenina (1997)',\n",
       "        b'City of Angels (1998)', b'Rosewood (1997)',\n",
       "        b'Funeral, The (1996)', b'Prefontaine (1997)',\n",
       "        b'Half Baked (1998)', b'Surviving Picasso (1996)',\n",
       "        b'Portrait of a Lady, The (1996)', b'Best Men (1997)',\n",
       "        b'Wings of the Dove, The (1997)', b'Traveller (1997)',\n",
       "        b'Substance of Fire, The (1996)',\n",
       "        b'Substance of Fire, The (1996)', b'Love Serenade (1996)',\n",
       "        b'Thousand Acres, A (1997)',\n",
       "        b'Convent, The (Convento, O) (1995)', b'Mouse Hunt (1997)',\n",
       "        b'Amistad (1997)', b'Evening Star, The (1996)',\n",
       "        b'Brassed Off (1996)', b'Donnie Brasco (1997)',\n",
       "        b'Mrs. Brown (Her Majesty, Mrs. Brown) (1997)',\n",
       "        b'Fly Away Home (1996)', b'Fly Away Home (1996)',\n",
       "        b'Spitfire Grill, The (1996)', b'Welcome To Sarajevo (1997)',\n",
       "        b'Mirror Has Two Faces, The (1996)',\n",
       "        b'Object of My Affection, The (1998)', b\"It's My Party (1995)\",\n",
       "        b'Jane Eyre (1996)', b'Homage (1995)',\n",
       "        b'Smile Like Yours, A (1997)', b'Lamerica (1994)',\n",
       "        b'Ice Storm, The (1997)', b'Ice Storm, The (1997)',\n",
       "        b'Story of Xinghua, The (1993)', b'Apt Pupil (1998)',\n",
       "        b'Mother (1996)', b'Restoration (1995)',\n",
       "        b'In Love and War (1996)', b'Unhook the Stars (1996)',\n",
       "        b'Dark City (1998)',\n",
       "        b'Maybe, Maybe Not (Bewegte Mann, Der) (1994)',\n",
       "        b'N\\xc3\\xa9nette et Boni (1996)', b'Jude (1996)',\n",
       "        b'English Patient, The (1996)', b'Michael Collins (1996)',\n",
       "        b'Last Supper, The (1995)', b'That Old Feeling (1997)',\n",
       "        b'Big Lebowski, The (1998)', b'Man of the Year (1995)',\n",
       "        b\"I'm Not Rappaport (1996)\", b'Washington Square (1997)',\n",
       "        b'Birdcage, The (1996)', b'Hedd Wyn (1992)',\n",
       "        b'Harriet the Spy (1996)', b'Spanish Prisoner, The (1997)',\n",
       "        b'Innocent Sleep, The (1995)', b'Boys, Les (1997)',\n",
       "        b'Little Odessa (1994)', b'Tin Cup (1996)', b'Captives (1994)',\n",
       "        b'Selena (1997)', b'In & Out (1997)',\n",
       "        b'Low Down Dirty Shame, A (1994)', b'Waiting for Guffman (1996)',\n",
       "        b'Van, The (1996)', b'Sweet Hereafter, The (1997)',\n",
       "        b'Winter Guest, The (1997)', b'Assignment, The (1997)',\n",
       "        b\"My Best Friend's Wedding (1997)\", b'White Squall (1996)',\n",
       "        b'Blues Brothers 2000 (1998)', b'Tango Lesson, The (1997)',\n",
       "        b'Intimate Relations (1996)', b'Deconstructing Harry (1997)',\n",
       "        b'Palmetto (1998)',\n",
       "        b'Flower of My Secret, The (Flor de mi secreto, La) (1995)',\n",
       "        b'Hate (Haine, La) (1995)', b'When We Were Kings (1996)',\n",
       "        b'Grass Harp, The (1995)', b'First Wives Club, The (1996)',\n",
       "        b\"Margaret's Museum (1995)\", b'Designated Mourner, The (1997)',\n",
       "        b'Designated Mourner, The (1997)',\n",
       "        b'Falling in Love Again (1980)', b\"Brother's Kiss, A (1997)\",\n",
       "        b'Wonderland (1997)', b'Great Expectations (1998)',\n",
       "        b'Everest (1998)', b'Anastasia (1997)', b'House Arrest (1996)',\n",
       "        b'That Thing You Do! (1996)', b'Everyone Says I Love You (1996)',\n",
       "        b'Midnight Dancers (Sibak) (1994)', b'Full Monty, The (1997)',\n",
       "        b'Othello (1995)', b'Air Force One (1997)',\n",
       "        b'In the Bleak Midwinter (1995)', b'Late Bloomers (1996)',\n",
       "        b'Mrs. Dalloway (1997)', b'Firestorm (1998)',\n",
       "        b'Spice World (1997)', b'August (1996)', b'Set It Off (1996)',\n",
       "        b'Truth About Cats & Dogs, The (1996)', b'Wag the Dog (1997)',\n",
       "        b'Trigger Effect, The (1996)', b'If Lucy Fell (1996)',\n",
       "        b'Kiss Me, Guido (1997)', b'Leopard Son, The (1996)',\n",
       "        b\"Wooden Man's Bride, The (Wu Kui) (1994)\",\n",
       "        b'Courage Under Fire (1996)', b'Palookaville (1996)',\n",
       "        b'Addicted to Love (1997)', b'Looking for Richard (1996)',\n",
       "        b'Eddie (1996)', b'Blood & Wine (1997)', b'Night Flier (1997)',\n",
       "        b'Good Will Hunting (1997)', b'My Fellow Americans (1996)',\n",
       "        b'Pompatus of Love, The (1996)', b'Good Morning (1971)',\n",
       "        b'L.A. Confidential (1997)', b'Out to Sea (1997)',\n",
       "        b'Evita (1996)', b'Celluloid Closet, The (1995)',\n",
       "        b'Michael (1996)', b'Down Periscope (1996)', b'Game, The (1997)',\n",
       "        b'Extreme Measures (1996)', b'Fear (1996)',\n",
       "        b'Indian Summer (1996)', b'8 Heads in a Duffel Bag (1997)',\n",
       "        b'Sabrina (1995)', b'Phenomenon (1996)', b'Manny & Lo (1996)',\n",
       "        b'Fast, Cheap & Out of Control (1997)', b'Phat Beach (1996)',\n",
       "        b'Booty Call (1997)', b\"Dante's Peak (1997)\",\n",
       "        b'As Good As It Gets (1997)', b'Gattaca (1997)',\n",
       "        b'Angel Baby (1995)', b'American Strays (1996)',\n",
       "        b'G.I. Jane (1997)', b\"Smilla's Sense of Snow (1997)\",\n",
       "        b'Wedding Singer, The (1998)', b'Losing Chase (1996)',\n",
       "        b'Face/Off (1997)', b'Rainmaker, The (1997)',\n",
       "        b'Welcome to the Dollhouse (1995)',\n",
       "        b'Rumble in the Bronx (1995)', b'Career Girls (1997)']],\n",
       "      dtype=object)>"
      ]
     },
     "execution_count": 15,
     "metadata": {},
     "output_type": "execute_result"
    }
   ],
   "source": [
    "titles"
   ]
  }
 ],
 "metadata": {
  "kernelspec": {
   "display_name": ".venv",
   "language": "python",
   "name": "python3"
  },
  "language_info": {
   "codemirror_mode": {
    "name": "ipython",
    "version": 3
   },
   "file_extension": ".py",
   "mimetype": "text/x-python",
   "name": "python",
   "nbconvert_exporter": "python",
   "pygments_lexer": "ipython3",
   "version": "3.8.10"
  },
  "orig_nbformat": 4
 },
 "nbformat": 4,
 "nbformat_minor": 2
}
